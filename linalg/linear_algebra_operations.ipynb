{
 "cells": [
  {
   "cell_type": "code",
   "id": "6e276e0b",
   "metadata": {
    "ExecuteTime": {
     "end_time": "2025-08-20T08:14:28.208548Z",
     "start_time": "2025-08-20T08:14:28.163654Z"
    }
   },
   "source": [
    "import numpy as np"
   ],
   "outputs": [],
   "execution_count": 4
  },
  {
   "cell_type": "code",
   "execution_count": 2,
   "id": "84554375",
   "metadata": {},
   "outputs": [],
   "source": [
    "x = np.array([2,4,5])\n",
    "y = np.array([4,2,6])"
   ]
  },
  {
   "cell_type": "code",
   "execution_count": 3,
   "id": "630f7ef3",
   "metadata": {},
   "outputs": [
    {
     "data": {
      "text/plain": [
       "array([ 6,  6, 11])"
      ]
     },
     "execution_count": 3,
     "metadata": {},
     "output_type": "execute_result"
    }
   ],
   "source": [
    "y + x"
   ]
  },
  {
   "cell_type": "code",
   "execution_count": 4,
   "id": "99beae18",
   "metadata": {},
   "outputs": [
    {
     "data": {
      "text/plain": [
       "array([ 2, -2,  1])"
      ]
     },
     "execution_count": 4,
     "metadata": {},
     "output_type": "execute_result"
    }
   ],
   "source": [
    "y -x "
   ]
  },
  {
   "cell_type": "code",
   "execution_count": 5,
   "id": "11a44607",
   "metadata": {},
   "outputs": [
    {
     "data": {
      "text/plain": [
       "array([2. , 0.5, 1.2])"
      ]
     },
     "execution_count": 5,
     "metadata": {},
     "output_type": "execute_result"
    }
   ],
   "source": [
    "y /x"
   ]
  },
  {
   "cell_type": "code",
   "id": "47d05b3a",
   "metadata": {
    "ExecuteTime": {
     "end_time": "2025-08-20T08:14:35.229737Z",
     "start_time": "2025-08-20T08:14:35.225749Z"
    }
   },
   "source": [
    "#dot product\n",
    "y = np.array([2,4,5,6])\n",
    "x = np.array([3,4,5,2])\n",
    "\n",
    "np.dot(y,x)"
   ],
   "outputs": [
    {
     "data": {
      "text/plain": [
       "np.int64(59)"
      ]
     },
     "execution_count": 5,
     "metadata": {},
     "output_type": "execute_result"
    }
   ],
   "execution_count": 5
  },
  {
   "cell_type": "code",
   "id": "51a780ae",
   "metadata": {
    "ExecuteTime": {
     "end_time": "2025-08-20T08:14:37.797802Z",
     "start_time": "2025-08-20T08:14:37.795432Z"
    }
   },
   "source": [
    "#hadamard product\n",
    "y = np.array([2,3,4])\n",
    "x = np.array([8,2,1])\n",
    "y * x"
   ],
   "outputs": [
    {
     "data": {
      "text/plain": [
       "array([16,  6,  4])"
      ]
     },
     "execution_count": 6,
     "metadata": {},
     "output_type": "execute_result"
    }
   ],
   "execution_count": 6
  },
  {
   "cell_type": "markdown",
   "id": "fcd448ff",
   "metadata": {},
   "source": [
    "# MATRIX MULTIPLICATION"
   ]
  },
  {
   "cell_type": "code",
   "id": "b7c623ae",
   "metadata": {
    "ExecuteTime": {
     "end_time": "2025-08-20T08:14:48.948199Z",
     "start_time": "2025-08-20T08:14:48.946083Z"
    }
   },
   "source": [
    "matrix_a=[[2,4,5],\n",
    "         [1,6,2]\n",
    "         ]\n",
    "matrix_b = [[1,6],\n",
    "           [3,1],\n",
    "            [1,2]\n",
    "           ]"
   ],
   "outputs": [],
   "execution_count": 7
  },
  {
   "cell_type": "code",
   "id": "bcf8911b",
   "metadata": {
    "ExecuteTime": {
     "end_time": "2025-08-20T08:16:12.681384Z",
     "start_time": "2025-08-20T08:16:12.677957Z"
    }
   },
   "source": [
    "def matrix_mult(matrix_a, matrix_b):\n",
    "    if len(matrix_a[0])!= len(matrix_b):\n",
    "        raise ValueError(\"Incompatible matrix shapes\")\n",
    "        \n",
    "    result = []\n",
    "    \n",
    "    for row in range(len(matrix_a)):\n",
    "        newRow = []\n",
    "        for col in range(len(matrix_b[0])):\n",
    "            dot_product = sum(matrix_a[row][k] * matrix_b[k][col] for k in range(len(matrix_b)))\n",
    "            newRow.append(dot_product)\n",
    "        result.append(newRow)\n",
    "        \n",
    "    return result\n",
    "        "
   ],
   "outputs": [],
   "execution_count": 8
  },
  {
   "cell_type": "code",
   "id": "a57792af",
   "metadata": {
    "ExecuteTime": {
     "end_time": "2025-08-20T08:16:14.900302Z",
     "start_time": "2025-08-20T08:16:14.897263Z"
    }
   },
   "source": [
    "res = matrix_mult(matrix_a, matrix_b)\n",
    "res"
   ],
   "outputs": [
    {
     "data": {
      "text/plain": [
       "[[19, 26], [21, 16]]"
      ]
     },
     "execution_count": 9,
     "metadata": {},
     "output_type": "execute_result"
    }
   ],
   "execution_count": 9
  },
  {
   "cell_type": "markdown",
   "id": "d108cc92",
   "metadata": {},
   "source": [
    "# MATRIX TRANSPOSE"
   ]
  },
  {
   "cell_type": "code",
   "id": "21061a8b",
   "metadata": {
    "ExecuteTime": {
     "end_time": "2025-08-20T08:16:21.479470Z",
     "start_time": "2025-08-20T08:16:21.476651Z"
    }
   },
   "source": [
    "matrix_a"
   ],
   "outputs": [
    {
     "data": {
      "text/plain": [
       "[[2, 4, 5], [1, 6, 2]]"
      ]
     },
     "execution_count": 10,
     "metadata": {},
     "output_type": "execute_result"
    }
   ],
   "execution_count": 10
  },
  {
   "cell_type": "code",
   "id": "d1cfb8ef",
   "metadata": {
    "ExecuteTime": {
     "end_time": "2025-08-20T08:16:22.948127Z",
     "start_time": "2025-08-20T08:16:22.945627Z"
    }
   },
   "source": [
    "def transposeMatrix(m):\n",
    "    tm = []\n",
    "    for i in range(len(m[0])):\n",
    "        newRow = []\n",
    "        for j in range(len(m)):\n",
    "            newRow.append(m[j][i])\n",
    "        tm.append(newRow)\n",
    "        \n",
    "    return tm\n",
    "    "
   ],
   "outputs": [],
   "execution_count": 11
  },
  {
   "cell_type": "code",
   "id": "eb80e844",
   "metadata": {
    "ExecuteTime": {
     "end_time": "2025-08-20T08:16:25.562097Z",
     "start_time": "2025-08-20T08:16:25.559424Z"
    }
   },
   "source": [
    "transposeMatrix(matrix_a)"
   ],
   "outputs": [
    {
     "data": {
      "text/plain": [
       "[[2, 1], [4, 6], [5, 2]]"
      ]
     },
     "execution_count": 12,
     "metadata": {},
     "output_type": "execute_result"
    }
   ],
   "execution_count": 12
  },
  {
   "cell_type": "code",
   "id": "4efe7e1c",
   "metadata": {
    "ExecuteTime": {
     "end_time": "2025-08-20T08:16:42.286936Z",
     "start_time": "2025-08-20T08:16:42.284574Z"
    }
   },
   "source": [
    "#sparse matrices\n",
    "m_a = [[0,2,0,0,0],\n",
    "      [0,0,0,0,0],\n",
    "       [0,1,0,0,0],\n",
    "       [0,1,0,0,0],\n",
    "       [0,0,0,0,0]\n",
    "      ]\n",
    "m_b = [[0,0,0,0,0],\n",
    "      [0,0,0,0,0],\n",
    "       [0,2,0,0,0],\n",
    "       [0,1,0,2,0],\n",
    "       [0,0,0,0,0]\n",
    "      ]"
   ],
   "outputs": [],
   "execution_count": 13
  },
  {
   "cell_type": "code",
   "id": "4f1f7809",
   "metadata": {
    "ExecuteTime": {
     "end_time": "2025-08-20T08:16:48.557868Z",
     "start_time": "2025-08-20T08:16:48.553590Z"
    }
   },
   "source": [
    "def sparse_mm(matrix_a, matrix_b):\n",
    "    if len(matrix_a[0]) != len(matrix_b):\n",
    "        return [[]]\n",
    "    \n",
    "    s_a = get_useful_values(matrix_a)\n",
    "    s_b = get_useful_values(matrix_b)\n",
    "    \n",
    "    matrix_c = [[0] * len(matrix_b[0]) for _ in range(len(matrix_a))]\n",
    "    \n",
    "    for i, k in s_a.keys():\n",
    "        for j in range(len(matrix_b[0])):\n",
    "            if (k,j) in s_b.keys():\n",
    "                matrix_c[i][j] += s_a[(i,k)] * s_b[(k,j)]\n",
    "    return matrix_c\n",
    "\n",
    "def get_useful_values(matrix):\n",
    "    res = {}\n",
    "    for i in range(len(matrix)):\n",
    "        for j in range(len(matrix[0])):\n",
    "            if matrix[i][j] != 0:\n",
    "                res[(i,j)] = matrix[i][j]\n",
    "                \n",
    "    return res\n"
   ],
   "outputs": [],
   "execution_count": 15
  },
  {
   "cell_type": "code",
   "id": "fa458259",
   "metadata": {
    "ExecuteTime": {
     "end_time": "2025-08-20T08:17:00.760919Z",
     "start_time": "2025-08-20T08:17:00.758058Z"
    }
   },
   "source": [
    "res = sparse_mm(m_a, m_b)\n",
    "res"
   ],
   "outputs": [
    {
     "data": {
      "text/plain": [
       "[[0, 0, 0, 0, 0],\n",
       " [0, 0, 0, 0, 0],\n",
       " [0, 0, 0, 0, 0],\n",
       " [0, 0, 0, 0, 0],\n",
       " [0, 0, 0, 0, 0]]"
      ]
     },
     "execution_count": 17,
     "metadata": {},
     "output_type": "execute_result"
    }
   ],
   "execution_count": 17
  },
  {
   "cell_type": "code",
   "id": "d60c6983",
   "metadata": {
    "ExecuteTime": {
     "end_time": "2025-08-20T08:17:02.941916Z",
     "start_time": "2025-08-20T08:17:02.938688Z"
    }
   },
   "source": [
    "a = [[0,2,0],\n",
    "    [0,0,0]\n",
    "    ]\n",
    "b = [[0,1],\n",
    "    [2,0],\n",
    "     [1,0]\n",
    "    ]\n",
    "res = sparse_mm(a,b)\n",
    "res"
   ],
   "outputs": [
    {
     "data": {
      "text/plain": [
       "[[4, 0], [0, 0]]"
      ]
     },
     "execution_count": 18,
     "metadata": {},
     "output_type": "execute_result"
    }
   ],
   "execution_count": 18
  },
  {
   "cell_type": "code",
   "execution_count": null,
   "id": "1444845f",
   "metadata": {},
   "outputs": [],
   "source": []
  },
  {
   "cell_type": "code",
   "execution_count": null,
   "id": "f6a2ac87",
   "metadata": {},
   "outputs": [],
   "source": []
  },
  {
   "cell_type": "code",
   "execution_count": null,
   "id": "8d54546f",
   "metadata": {},
   "outputs": [],
   "source": []
  },
  {
   "cell_type": "code",
   "execution_count": null,
   "id": "aaa35711",
   "metadata": {},
   "outputs": [],
   "source": []
  },
  {
   "cell_type": "code",
   "execution_count": null,
   "id": "80f3dbde",
   "metadata": {},
   "outputs": [],
   "source": []
  }
 ],
 "metadata": {
  "kernelspec": {
   "display_name": "Python 3 (ipykernel)",
   "language": "python",
   "name": "python3"
  },
  "language_info": {
   "codemirror_mode": {
    "name": "ipython",
    "version": 3
   },
   "file_extension": ".py",
   "mimetype": "text/x-python",
   "name": "python",
   "nbconvert_exporter": "python",
   "pygments_lexer": "ipython3",
   "version": "3.11.5"
  }
 },
 "nbformat": 4,
 "nbformat_minor": 5
}
